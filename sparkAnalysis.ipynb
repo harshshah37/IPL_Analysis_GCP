{
 "cells": [
  {
   "cell_type": "code",
   "execution_count": 1,
   "id": "1a4e2499-a5e9-4c35-970b-2200e88c8353",
   "metadata": {
    "tags": []
   },
   "outputs": [],
   "source": [
    "import os\n",
    "import pandas as pd\n",
    "from pyspark.sql.types import StructField, StructType, IntegerType, StringType, BooleanType, DateType, DecimalType\n",
    "from pyspark.sql.functions import col, when, sum, avg, row_number \n",
    "from pyspark.sql.window import Window"
   ]
  },
  {
   "cell_type": "code",
   "execution_count": 2,
   "id": "f2cf7a8e-c367-4c31-a368-11456c274bf7",
   "metadata": {
    "tags": []
   },
   "outputs": [],
   "source": [
    "os.environ[\"GOOGLE_APPLICATION_CREDENTIALS\"] = \"sp24-i535-shahhh-cricanalysis-7b69ab52366d.json\""
   ]
  },
  {
   "cell_type": "code",
   "execution_count": 3,
   "id": "1f12e1fd-268b-4ee2-ba13-0bbae292b6d0",
   "metadata": {
    "tags": []
   },
   "outputs": [],
   "source": [
    "from google.cloud import storage\n",
    "storage_client = storage.Client()\n",
    "bucket_name = \"cric_data\""
   ]
  },
  {
   "cell_type": "code",
   "execution_count": 4,
   "id": "34110edf-47a0-479f-bbab-58baeb4395e4",
   "metadata": {
    "tags": []
   },
   "outputs": [],
   "source": [
    "from google.cloud import storage\n",
    "def list_blobs (bucket_name) :\n",
    "    storage_client = storage. Client()\n",
    "    blobs = storage_client. list_blobs (bucket_name)\n",
    "    for blob in blobs:\n",
    "        print (blob. name)"
   ]
  },
  {
   "cell_type": "code",
   "execution_count": 5,
   "id": "29cb597d-cb47-4d19-b177-58696c39fe02",
   "metadata": {
    "tags": []
   },
   "outputs": [
    {
     "name": "stdout",
     "output_type": "stream",
     "text": [
      "circ_data/data/ball_by_ball.csv\n",
      "circ_data/data/match.csv\n",
      "circ_data/data/player.csv\n",
      "circ_data/data/player_match.csv\n",
      "circ_data/data/team.csv\n",
      "circ_data/datapackage.json\n",
      "circ_data/original/Ball_By_Ball.csv\n",
      "circ_data/original/Match.csv\n",
      "circ_data/original/Player.csv\n",
      "circ_data/original/Player_match.csv\n",
      "circ_data/original/Team.csv\n",
      "circ_data/original/workspace\n"
     ]
    }
   ],
   "source": [
    "list_blobs(bucket_name)"
   ]
  },
  {
   "cell_type": "code",
   "execution_count": 6,
   "id": "c1808f7e-64c5-4df4-b728-c94cd6f9913e",
   "metadata": {
    "tags": []
   },
   "outputs": [
    {
     "name": "stdout",
     "output_type": "stream",
     "text": [
      "24/04/29 06:33:08 WARN SparkSession: Using an existing Spark session; only runtime SQL configurations will take effect.\n"
     ]
    }
   ],
   "source": [
    "from pyspark.sql import SparkSession \n",
    "\n",
    "spark = SparkSession.builder.appName(\"Cric_Analysis\").getOrCreate()"
   ]
  },
  {
   "cell_type": "code",
   "execution_count": 7,
   "id": "64b5056a-a633-4934-a217-2b427847dcd5",
   "metadata": {
    "tags": []
   },
   "outputs": [
    {
     "name": "stderr",
     "output_type": "stream",
     "text": [
      "                                                                                \r"
     ]
    }
   ],
   "source": [
    "ball_by_ball_df = spark.read.format(\"csv\").option(\"header\",\"true\").load(\"gs://cric_data/circ_data/data/ball_by_ball.csv\")\n",
    "match_df = spark.read.format(\"csv\").option(\"header\",\"true\").load(\"gs://cric_data/circ_data/data/match.csv\")\n",
    "player_df = spark.read.format(\"csv\").option(\"header\",\"true\").load(\"gs://cric_data/circ_data/data/player.csv\")\n",
    "player_match_df = spark.read.format(\"csv\").option(\"header\",\"true\").load(\"gs://cric_data/circ_data/data/player_match.csv\")\n",
    "team_df = spark.read.format(\"csv\").option(\"header\",\"true\").load(\"gs://cric_data/circ_data/data/team.csv\")"
   ]
  },
  {
   "cell_type": "code",
   "execution_count": 8,
   "id": "839a0c42-4518-4279-80df-7c6507d38c7b",
   "metadata": {
    "tags": []
   },
   "outputs": [],
   "source": [
    "ball_by_ball_schema = StructType([\n",
    "    StructField(\"match_id\", IntegerType(), True),\n",
    "    StructField(\"over_id\", IntegerType(), True),\n",
    "    StructField(\"ball_id\", IntegerType(), True),\n",
    "    StructField(\"innings_no\", IntegerType(), True),\n",
    "    StructField(\"team_batting\", StringType(), True),\n",
    "    StructField(\"team_bowling\", StringType(), True),\n",
    "    StructField(\"striker_batting_position\", IntegerType(), True),\n",
    "    StructField(\"extra_type\", StringType(), True),\n",
    "    StructField(\"runs_scored\", IntegerType(), True),\n",
    "    StructField(\"extra_runs\", IntegerType(), True),\n",
    "    StructField(\"wides\", IntegerType(), True),\n",
    "    StructField(\"legbyes\", IntegerType(), True),\n",
    "    StructField(\"byes\", IntegerType(), True),\n",
    "    StructField(\"noballs\", IntegerType(), True),\n",
    "    StructField(\"penalty\", IntegerType(), True),\n",
    "    StructField(\"bowler_extras\", IntegerType(), True),\n",
    "    StructField(\"out_type\", StringType(), True),\n",
    "    StructField(\"caught\", BooleanType(), True),\n",
    "    StructField(\"bowled\", BooleanType(), True),\n",
    "    StructField(\"run_out\", BooleanType(), True),\n",
    "    StructField(\"lbw\", BooleanType(), True),\n",
    "    StructField(\"retired_hurt\", BooleanType(), True),\n",
    "    StructField(\"stumped\", BooleanType(), True),\n",
    "    StructField(\"caught_and_bowled\", BooleanType(), True),\n",
    "    StructField(\"hit_wicket\", BooleanType(), True),\n",
    "    StructField(\"obstructingfeild\", BooleanType(), True),\n",
    "    StructField(\"bowler_wicket\", BooleanType(), True),\n",
    "    StructField(\"match_date\", DateType(), True),\n",
    "    StructField(\"season\", IntegerType(), True),\n",
    "    StructField(\"striker\", IntegerType(), True),\n",
    "    StructField(\"non_striker\", IntegerType(), True),\n",
    "    StructField(\"bowler\", IntegerType(), True),\n",
    "    StructField(\"player_out\", IntegerType(), True),\n",
    "    StructField(\"fielders\", IntegerType(), True),\n",
    "    StructField(\"striker_match_sk\", IntegerType(), True),\n",
    "    StructField(\"strikersk\", IntegerType(), True),\n",
    "    StructField(\"nonstriker_match_sk\", IntegerType(), True),\n",
    "    StructField(\"nonstriker_sk\", IntegerType(), True),\n",
    "    StructField(\"fielder_match_sk\", IntegerType(), True),\n",
    "    StructField(\"fielder_sk\", IntegerType(), True),\n",
    "    StructField(\"bowler_match_sk\", IntegerType(), True),\n",
    "    StructField(\"bowler_sk\", IntegerType(), True),\n",
    "    StructField(\"playerout_match_sk\", IntegerType(), True),\n",
    "    StructField(\"battingteam_sk\", IntegerType(), True),\n",
    "    StructField(\"bowlingteam_sk\", IntegerType(), True),\n",
    "    StructField(\"keeper_catch\", BooleanType(), True),\n",
    "    StructField(\"player_out_sk\", IntegerType(), True),\n",
    "    StructField(\"matchdatesk\", DateType(), True)\n",
    "])"
   ]
  },
  {
   "cell_type": "code",
   "execution_count": 9,
   "id": "6f84c397-2e0d-46c1-b333-a8e5f66f00ba",
   "metadata": {
    "tags": []
   },
   "outputs": [],
   "source": [
    "match_schema = StructType([\n",
    "    StructField(\"match_sk\", IntegerType(), True),\n",
    "    StructField(\"match_id\", IntegerType(), True),\n",
    "    StructField(\"team1\", StringType(), True),\n",
    "    StructField(\"team2\", StringType(), True),\n",
    "    StructField(\"match_date\", DateType(), True),\n",
    "    StructField(\"season_year\", IntegerType(), True),\n",
    "    StructField(\"venue_name\", StringType(), True),\n",
    "    StructField(\"city_name\", StringType(), True),\n",
    "    StructField(\"country_name\", StringType(), True),\n",
    "    StructField(\"toss_winner\", StringType(), True),\n",
    "    StructField(\"match_winner\", StringType(), True),\n",
    "    StructField(\"toss_name\", StringType(), True),\n",
    "    StructField(\"win_type\", StringType(), True),\n",
    "    StructField(\"outcome_type\", StringType(), True),\n",
    "    StructField(\"manofmach\", StringType(), True),\n",
    "    StructField(\"win_margin\", IntegerType(), True),\n",
    "    StructField(\"country_id\", IntegerType(), True)\n",
    "])"
   ]
  },
  {
   "cell_type": "code",
   "execution_count": 10,
   "id": "8529d285-fb83-4955-bdc6-b083d85ae204",
   "metadata": {
    "tags": []
   },
   "outputs": [],
   "source": [
    "player_schema = StructType([\n",
    "    StructField(\"player_sk\", IntegerType(), True),\n",
    "    StructField(\"player_id\", IntegerType(), True),\n",
    "    StructField(\"player_name\", StringType(), True),\n",
    "    StructField(\"dob\", DateType(), True),\n",
    "    StructField(\"batting_hand\", StringType(), True),\n",
    "    StructField(\"bowling_skill\", StringType(), True),\n",
    "    StructField(\"country_name\", StringType(), True)\n",
    "])"
   ]
  },
  {
   "cell_type": "code",
   "execution_count": 11,
   "id": "bd0fce7b-f744-4997-82bb-35f6171f9f27",
   "metadata": {
    "tags": []
   },
   "outputs": [],
   "source": [
    "player_match_schema = StructType([\n",
    "    StructField(\"player_match_sk\", IntegerType(), True),\n",
    "    StructField(\"playermatch_key\", DecimalType(), True),\n",
    "    StructField(\"match_id\", IntegerType(), True),\n",
    "    StructField(\"player_id\", IntegerType(), True),\n",
    "    StructField(\"player_name\", StringType(), True),\n",
    "    StructField(\"dob\", DateType(), True),\n",
    "    StructField(\"batting_hand\", StringType(), True),\n",
    "    StructField(\"bowling_skill\", StringType(), True),\n",
    "    StructField(\"country_name\", StringType(), True),\n",
    "    StructField(\"role_desc\", StringType(), True),\n",
    "    StructField(\"player_team\", StringType(), True),\n",
    "    StructField(\"opposit_team\", StringType(), True),\n",
    "    StructField(\"season_year\", IntegerType(), True),\n",
    "    StructField(\"is_manofthematch\", BooleanType(), True),\n",
    "    StructField(\"age_as_on_match\", IntegerType(), True),\n",
    "    StructField(\"isplayers_team_won\", BooleanType(), True),\n",
    "    StructField(\"batting_status\", StringType(), True),\n",
    "    StructField(\"bowling_status\", StringType(), True),\n",
    "    StructField(\"player_captain\", StringType(), True),\n",
    "    StructField(\"opposit_captain\", StringType(), True),\n",
    "    StructField(\"player_keeper\", StringType(), True),\n",
    "    StructField(\"opposit_keeper\", StringType(), True)\n",
    "])"
   ]
  },
  {
   "cell_type": "code",
   "execution_count": 12,
   "id": "ca5154ca-6123-4bd7-b8bc-3b5b602570f9",
   "metadata": {
    "tags": []
   },
   "outputs": [],
   "source": [
    "team_schema = StructType([\n",
    "    StructField(\"team_sk\", IntegerType(), True),\n",
    "    StructField(\"team_id\", IntegerType(), True),\n",
    "    StructField(\"team_name\", StringType(), True)\n",
    "])"
   ]
  },
  {
   "cell_type": "code",
   "execution_count": 13,
   "id": "1e08948a-7b36-49e1-a2ca-15c36e9c7227",
   "metadata": {
    "tags": []
   },
   "outputs": [],
   "source": [
    "ball_by_ball_df = spark.read.schema(ball_by_ball_schema).format(\"csv\").option(\"header\",\"true\").load(\"gs://cric_data/circ_data/data/ball_by_ball.csv\")\n",
    "match_df = spark.read.schema(match_schema).format(\"csv\").option(\"header\",\"true\").load(\"gs://cric_data/circ_data/data/match.csv\")\n",
    "player_df = spark.read.schema(player_schema).format(\"csv\").option(\"header\",\"true\").load(\"gs://cric_data/circ_data/data/player.csv\")\n",
    "player_match_df = spark.read.schema(player_match_schema).format(\"csv\").option(\"header\",\"true\").load(\"gs://cric_data/circ_data/data/player_match.csv\")\n",
    "team_df = spark.read.schema(team_schema).format(\"csv\").option(\"header\",\"true\").load(\"gs://cric_data/circ_data/data/team.csv\")"
   ]
  },
  {
   "cell_type": "code",
   "execution_count": 14,
   "id": "d063a04a-2ccb-431d-8319-36eb743d6808",
   "metadata": {
    "tags": []
   },
   "outputs": [],
   "source": [
    "# Filtering to include only valid deliveries (excluding extras like wides and no balls for specific analyses)\n",
    "ball_by_ball_df = ball_by_ball_df.filter((col(\"wides\") == 0) & (col(\"noballs\")==0))"
   ]
  },
  {
   "cell_type": "code",
   "execution_count": 15,
   "id": "4be1bc2b-b294-4a0f-bc50-c1e9722fb1e2",
   "metadata": {
    "tags": []
   },
   "outputs": [],
   "source": [
    "# Aggregation: Calculating the total and average runs scored in each match and inning\n",
    "total_and_avg_runs = ball_by_ball_df.groupBy(\"match_id\", \"innings_no\").agg(\n",
    "    sum(\"runs_scored\").alias(\"total_runs\"),\n",
    "    avg(\"runs_scored\").alias(\"average_runs\")\n",
    ")"
   ]
  },
  {
   "cell_type": "code",
   "execution_count": 16,
   "id": "669b1b10-2981-48e9-9003-bae328d89db1",
   "metadata": {
    "tags": []
   },
   "outputs": [],
   "source": [
    "# Window Function: Calculating running total of runs in each match for each over\n",
    "windowSpec = Window.partitionBy(\"match_id\",\"innings_no\").orderBy(\"over_id\")\n",
    "\n",
    "ball_by_ball_df = ball_by_ball_df.withColumn(\n",
    "    \"running_total_runs\",\n",
    "    sum(\"runs_scored\").over(windowSpec)\n",
    ")"
   ]
  },
  {
   "cell_type": "code",
   "execution_count": 18,
   "id": "7d482889-36e1-43f7-9762-8b4c9ac4b51c",
   "metadata": {
    "tags": []
   },
   "outputs": [],
   "source": [
    "# Conditional Column: Flag for high impact balls (either a wicket or more than 6 runs including extras)\n",
    "ball_by_ball_df = ball_by_ball_df.withColumn(\n",
    "    \"high_impact\",\n",
    "    when((col(\"runs_scored\") + col(\"extra_runs\") > 6) | (col(\"bowler_wicket\") == True), True).otherwise(False)\n",
    ")"
   ]
  },
  {
   "cell_type": "code",
   "execution_count": 19,
   "id": "8d742824-7655-458a-ad79-30ab22b8327a",
   "metadata": {
    "tags": []
   },
   "outputs": [
    {
     "name": "stdout",
     "output_type": "stream",
     "text": [
      "+--------+--------+--------------------+--------------------+----------+-----------+--------------------+----------+------------+--------------------+--------------------+---------+--------+------------+-----------+----------+----------+----+-----+---+-------------------+-----------------+\n",
      "|match_sk|match_id|               team1|               team2|match_date|season_year|          venue_name| city_name|country_name|         toss_winner|        match_winner|toss_name|win_type|outcome_type|  manofmach|win_margin|country_id|year|month|day|win_margin_category|toss_match_winner|\n",
      "+--------+--------+--------------------+--------------------+----------+-----------+--------------------+----------+------------+--------------------+--------------------+---------+--------+------------+-----------+----------+----------+----+-----+---+-------------------+-----------------+\n",
      "|       0|  335987|Royal Challengers...|Kolkata Knight Ri...|2008-04-18|       2008|M Chinnaswamy Sta...| Bangalore|       India|Royal Challengers...|Kolkata Knight Ri...|    field|    runs|      Result|BB McCullum|       140|         1|2008|    4| 18|               High|               No|\n",
      "|       1|  335988|     Kings XI Punjab| Chennai Super Kings|2008-04-19|       2008|Punjab Cricket As...|Chandigarh|       India| Chennai Super Kings| Chennai Super Kings|      bat|    runs|      Result| MEK Hussey|        33|         1|2008|    4| 19|                Low|              Yes|\n",
      "+--------+--------+--------------------+--------------------+----------+-----------+--------------------+----------+------------+--------------------+--------------------+---------+--------+------------+-----------+----------+----------+----+-----+---+-------------------+-----------------+\n",
      "only showing top 2 rows\n",
      "\n"
     ]
    }
   ],
   "source": [
    "from pyspark.sql.functions import year, month, dayofmonth, when\n",
    "\n",
    "# Extracting year, month, and day from the match date for more detailed time-based analysis\n",
    "match_df = match_df.withColumn(\"year\", year(\"match_date\"))\n",
    "match_df = match_df.withColumn(\"month\", month(\"match_date\"))\n",
    "match_df = match_df.withColumn(\"day\", dayofmonth(\"match_date\"))\n",
    "\n",
    "# High margin win: categorizing win margins into 'high', 'medium', and 'low'\n",
    "match_df = match_df.withColumn(\n",
    "    \"win_margin_category\",\n",
    "    when(col(\"win_margin\") >= 100, \"High\")\n",
    "    .when((col(\"win_margin\") >= 50) & (col(\"win_margin\") < 100), \"Medium\")\n",
    "    .otherwise(\"Low\")\n",
    ")\n",
    "\n",
    "match_df = match_df.withColumn(\n",
    "    \"toss_match_winner\",\n",
    "    when(col(\"toss_winner\") == col(\"match_winner\"), \"Yes\").otherwise(\"No\")\n",
    ")\n",
    "\n",
    "match_df.show(2)"
   ]
  },
  {
   "cell_type": "code",
   "execution_count": 20,
   "id": "05946e23-cce8-4703-abbf-24d6689d77eb",
   "metadata": {
    "tags": []
   },
   "outputs": [
    {
     "name": "stdout",
     "output_type": "stream",
     "text": [
      "+---------+---------+-----------+----------+--------------+----------------+------------+-------------+\n",
      "|player_sk|player_id|player_name|       dob|  batting_hand|   bowling_skill|country_name|batting_style|\n",
      "+---------+---------+-----------+----------+--------------+----------------+------------+-------------+\n",
      "|        0|        1| sc ganguly|1972-07-08| Left-hand bat|Right-arm medium|       India| Right-Handed|\n",
      "|        1|        2|bb mccullum|1981-09-27|Right-hand bat|Right-arm medium| New Zealand| Right-Handed|\n",
      "+---------+---------+-----------+----------+--------------+----------------+------------+-------------+\n",
      "only showing top 2 rows\n",
      "\n"
     ]
    }
   ],
   "source": [
    "from pyspark.sql.functions import lower, regexp_replace\n",
    "\n",
    "# Normalize and clean player names\n",
    "player_df = player_df.withColumn(\"player_name\", lower(regexp_replace(\"player_name\", \"[^a-zA-Z0-9 ]\", \"\")))\n",
    "\n",
    "# Handle missing values in 'batting_hand' and 'bowling_skill' with a default 'unknown'\n",
    "player_df = player_df.na.fill({\"batting_hand\": \"unknown\", \"bowling_skill\": \"unknown\"})\n",
    "\n",
    "# Categorizing players based on batting hand\n",
    "player_df = player_df.withColumn(\n",
    "    \"batting_style\",\n",
    "    when(col(\"batting_hand\").contains(\"left\"), \"Left-Handed\").otherwise(\"Right-Handed\")\n",
    ")\n",
    "\n",
    "# Show the modified player DataFrame\n",
    "player_df.show(2)"
   ]
  },
  {
   "cell_type": "code",
   "execution_count": 21,
   "id": "3f0fc28b-1fd2-47df-85bf-e3daafa7c86c",
   "metadata": {
    "tags": []
   },
   "outputs": [
    {
     "name": "stdout",
     "output_type": "stream",
     "text": [
      "+---------------+---------------+--------+---------+---------------+----------+--------------+--------------------+------------+---------+--------------------+--------------------+-----------+----------------+---------------+------------------+--------------+--------------+--------------+---------------+-------------+--------------+--------------+-----------------+\n",
      "|player_match_sk|playermatch_key|match_id|player_id|    player_name|       dob|  batting_hand|       bowling_skill|country_name|role_desc|         player_team|        opposit_team|season_year|is_manofthematch|age_as_on_match|isplayers_team_won|batting_status|bowling_status|player_captain|opposit_captain|player_keeper|opposit_keeper|veteran_status|years_since_debut|\n",
      "+---------------+---------------+--------+---------+---------------+----------+--------------+--------------------+------------+---------+--------------------+--------------------+-----------+----------------+---------------+------------------+--------------+--------------+--------------+---------------+-------------+--------------+--------------+-----------------+\n",
      "|             -1|             -1|      -1|       -1|            N/A|      null|          null|                null|        null|     null|                null|                null|       null|            null|           null|              null|          null|          null|          null|           null|         null|          null|   Non-Veteran|             null|\n",
      "|          12694|           null|  335987|        6|       R Dravid|1973-01-11|Right-hand bat|  Right-arm offbreak|       India|  Captain|Royal Challengers...|Kolkata Knight Ri...|       2008|           false|             35|             false|          null|          null|      R Dravid|     SC Ganguly|   MV Boucher|       WP Saha|       Veteran|               16|\n",
      "|          12695|           null|  335987|        7|       W Jaffer|1978-02-16|Right-hand bat|  Right-arm offbreak|       India|   Player|Royal Challengers...|Kolkata Knight Ri...|       2008|           false|             30|             false|          null|          null|      R Dravid|     SC Ganguly|   MV Boucher|       WP Saha|   Non-Veteran|               16|\n",
      "|          12696|           null|  335987|        8|        V Kohli|1988-11-05|Right-hand bat|    Right-arm medium|       India|   Player|Royal Challengers...|Kolkata Knight Ri...|       2008|           false|             20|             false|          null|          null|      R Dravid|     SC Ganguly|   MV Boucher|       WP Saha|   Non-Veteran|               16|\n",
      "|          12697|           null|  335987|        9|      JH Kallis|1975-10-16|Right-hand bat|Right-arm fast-me...|South Africa|   Player|Royal Challengers...|Kolkata Knight Ri...|       2008|           false|             33|             false|          null|          null|      R Dravid|     SC Ganguly|   MV Boucher|       WP Saha|   Non-Veteran|               16|\n",
      "|          12698|           null|  335987|       10|       CL White|1983-08-18|Right-hand bat|     Legbreak googly|   Australia|   Player|Royal Challengers...|Kolkata Knight Ri...|       2008|           false|             25|             false|          null|          null|      R Dravid|     SC Ganguly|   MV Boucher|       WP Saha|   Non-Veteran|               16|\n",
      "|          12699|           null|  335987|       11|     MV Boucher|1976-12-03|Right-hand bat|    Right-arm medium|South Africa|   Keeper|Royal Challengers...|Kolkata Knight Ri...|       2008|           false|             32|             false|          null|          null|      R Dravid|     SC Ganguly|   MV Boucher|       WP Saha|   Non-Veteran|               16|\n",
      "|          12700|           null|  335987|       12|        B Akhil|1977-10-07|Right-hand bat|Right-arm medium-...|       India|   Player|Royal Challengers...|Kolkata Knight Ri...|       2008|           false|             31|             false|          null|          null|      R Dravid|     SC Ganguly|   MV Boucher|       WP Saha|   Non-Veteran|               16|\n",
      "|          12701|           null|  335987|       13|      AA Noffke|1977-04-30|Right-hand bat|Right-arm fast-me...|   Australia|   Player|Royal Challengers...|Kolkata Knight Ri...|       2008|           false|             31|             false|          null|          null|      R Dravid|     SC Ganguly|   MV Boucher|       WP Saha|   Non-Veteran|               16|\n",
      "|          12702|           null|  335987|       14|        P Kumar|1986-10-02|Right-hand bat|    Right-arm medium|       India|   Player|Royal Challengers...|Kolkata Knight Ri...|       2008|           false|             22|             false|          null|          null|      R Dravid|     SC Ganguly|   MV Boucher|       WP Saha|   Non-Veteran|               16|\n",
      "|          12703|           null|  335987|       15|         Z Khan|1978-10-07|Right-hand bat|Left-arm fast-medium|       India|   Player|Royal Challengers...|Kolkata Knight Ri...|       2008|           false|             30|             false|          null|          null|      R Dravid|     SC Ganguly|   MV Boucher|       WP Saha|   Non-Veteran|               16|\n",
      "|          12704|           null|  335987|       16|       SB Joshi|1970-06-06| Left-hand bat|Slow left-arm ort...|       India|   Player|Royal Challengers...|Kolkata Knight Ri...|       2008|           false|             38|             false|          null|          null|      R Dravid|     SC Ganguly|   MV Boucher|       WP Saha|       Veteran|               16|\n",
      "|          12705|           null|  335987|        1|     SC Ganguly|1972-07-08| Left-hand bat|    Right-arm medium|       India|  Captain|Kolkata Knight Ri...|Royal Challengers...|       2008|           false|             36|              true|          null|          null|    SC Ganguly|       R Dravid|      WP Saha|    MV Boucher|       Veteran|               16|\n",
      "|          12706|           null|  335987|        2|    BB McCullum|1981-09-27|Right-hand bat|    Right-arm medium| New Zealand|   Player|Kolkata Knight Ri...|Royal Challengers...|       2008|            true|             27|              true|          null|          null|    SC Ganguly|       R Dravid|      WP Saha|    MV Boucher|   Non-Veteran|               16|\n",
      "|          12707|           null|  335987|        3|     RT Ponting|1974-12-19|Right-hand bat|    Right-arm medium|   Australia|   Player|Kolkata Knight Ri...|Royal Challengers...|       2008|           false|             34|              true|          null|          null|    SC Ganguly|       R Dravid|      WP Saha|    MV Boucher|   Non-Veteran|               16|\n",
      "|          12708|           null|  335987|        4|      DJ Hussey|1977-07-15|Right-hand bat|  Right-arm offbreak|   Australia|   Player|Kolkata Knight Ri...|Royal Challengers...|       2008|           false|             31|              true|          null|          null|    SC Ganguly|       R Dravid|      WP Saha|    MV Boucher|   Non-Veteran|               16|\n",
      "|          12709|           null|  335987|        5|Mohammad Hafeez|1980-10-17|Right-hand bat|  Right-arm offbreak|    Pakistan|   Player|Kolkata Knight Ri...|Royal Challengers...|       2008|           false|             28|              true|          null|          null|    SC Ganguly|       R Dravid|      WP Saha|    MV Boucher|   Non-Veteran|               16|\n",
      "|          12710|           null|  335987|       62|        WP Saha|1984-10-24|Right-hand bat|                 N/A|       India|   Keeper|Kolkata Knight Ri...|Royal Challengers...|       2008|           false|             24|              true|          null|          null|    SC Ganguly|       R Dravid|      WP Saha|    MV Boucher|   Non-Veteran|               16|\n",
      "|          12711|           null|  335987|       63|      LR Shukla|1981-05-06|Right-hand bat|    Right-arm medium|       India|   Player|Kolkata Knight Ri...|Royal Challengers...|       2008|           false|             27|              true|          null|          null|    SC Ganguly|       R Dravid|      WP Saha|    MV Boucher|   Non-Veteran|               16|\n",
      "|          12712|           null|  335987|       82|     AB Agarkar|1977-12-04|Right-hand bat|      Right-arm fast|       India|   Player|Kolkata Knight Ri...|Royal Challengers...|       2008|           false|             31|              true|          null|          null|    SC Ganguly|       R Dravid|      WP Saha|    MV Boucher|   Non-Veteran|               16|\n",
      "+---------------+---------------+--------+---------+---------------+----------+--------------+--------------------+------------+---------+--------------------+--------------------+-----------+----------------+---------------+------------------+--------------+--------------+--------------+---------------+-------------+--------------+--------------+-----------------+\n",
      "only showing top 20 rows\n",
      "\n"
     ]
    }
   ],
   "source": [
    "from pyspark.sql.functions import col, when, current_date, expr\n",
    "\n",
    "# Add a 'veteran_status' column based on player age\n",
    "player_match_df = player_match_df.withColumn(\n",
    "    \"veteran_status\",\n",
    "    when(col(\"age_as_on_match\") >= 35, \"Veteran\").otherwise(\"Non-Veteran\")\n",
    ")\n",
    "\n",
    "# Dynamic column to calculate years since debut\n",
    "player_match_df = player_match_df.withColumn(\n",
    "    \"years_since_debut\",\n",
    "    (year(current_date()) - col(\"season_year\"))\n",
    ")\n",
    "\n",
    "# Show the enriched DataFrame\n",
    "player_match_df.show()"
   ]
  },
  {
   "cell_type": "code",
   "execution_count": 66,
   "id": "a5830655-0a4a-4dd6-97e1-1cdaaf394aad",
   "metadata": {
    "tags": []
   },
   "outputs": [
    {
     "name": "stderr",
     "output_type": "stream",
     "text": [
      "                                                                                \r"
     ]
    }
   ],
   "source": [
    "# Manually collect data from the Spark DataFrame\n",
    "data = ball_by_ball_df.rdd.map(lambda x: x.asDict()).collect()"
   ]
  },
  {
   "cell_type": "code",
   "execution_count": 67,
   "id": "aefaa9a9-ea1e-48db-b7e8-300271ac2194",
   "metadata": {
    "tags": []
   },
   "outputs": [],
   "source": [
    "pandas_df = pd.DataFrame(data)"
   ]
  },
  {
   "cell_type": "code",
   "execution_count": 83,
   "id": "597fcaf3-5a7e-45fd-93cc-02329f1ee3df",
   "metadata": {
    "tags": []
   },
   "outputs": [],
   "source": [
    "pandas_df = pandas_df.drop(['team_batting', 'team_bowling', 'matchdatesk'], axis=1)"
   ]
  },
  {
   "cell_type": "code",
   "execution_count": 87,
   "id": "d6380211-ba37-4c7c-835f-c4b63126eb6b",
   "metadata": {
    "tags": []
   },
   "outputs": [],
   "source": [
    "pandas_df.to_csv('ball_by_ball_df.csv', index=False)"
   ]
  },
  {
   "cell_type": "code",
   "execution_count": 91,
   "id": "eed620bf-6c4d-46f0-8354-42460daaf944",
   "metadata": {
    "tags": []
   },
   "outputs": [],
   "source": [
    "match_data = match_df.rdd.map(lambda x: x.asDict()).collect()\n",
    "pandas_df_match_data = pd.DataFrame(match_data)\n",
    "pandas_df_match_data.to_csv('match_df.csv', index=False)"
   ]
  },
  {
   "cell_type": "code",
   "execution_count": 93,
   "id": "5281fd13-f670-45d1-8373-fe6175670a8a",
   "metadata": {
    "tags": []
   },
   "outputs": [],
   "source": [
    "player_data = player_df.rdd.map(lambda x: x.asDict()).collect()\n",
    "pandas_df_player_data = pd.DataFrame(player_data)\n",
    "pandas_df_player_data.to_csv('player_df.csv', index=False)"
   ]
  },
  {
   "cell_type": "code",
   "execution_count": 95,
   "id": "41de6798-1a81-4540-b7dc-2b50cf5b7ca5",
   "metadata": {
    "tags": []
   },
   "outputs": [
    {
     "name": "stderr",
     "output_type": "stream",
     "text": [
      "                                                                                \r"
     ]
    }
   ],
   "source": [
    "player_match_data = player_match_df.rdd.map(lambda x: x.asDict()).collect()\n",
    "pandas_df_player_match_data = pd.DataFrame(player_match_data)\n",
    "pandas_df_player_match_data.to_csv('player_match_df.csv', index=False)"
   ]
  },
  {
   "cell_type": "code",
   "execution_count": 97,
   "id": "a68d5dd6-2c9f-44f1-8d9c-cba20c99b7f2",
   "metadata": {
    "tags": []
   },
   "outputs": [],
   "source": [
    "team_data = team_df.rdd.map(lambda x: x.asDict()).collect()\n",
    "pandas_df_team_data = pd.DataFrame(team_data)\n",
    "pandas_df_team_data.to_csv('team_df.csv', index=False)"
   ]
  },
  {
   "cell_type": "code",
   "execution_count": 70,
   "id": "73b4e311-1fa6-49c8-b29c-21a621c0ac1a",
   "metadata": {
    "tags": []
   },
   "outputs": [],
   "source": [
    "from google.cloud import storage\n",
    "storage_client = storage.Client()\n",
    "bucket2_name = \"cric_data_processed\""
   ]
  },
  {
   "cell_type": "code",
   "execution_count": 72,
   "id": "7441cc30-7421-4184-aec4-b4707a2d7587",
   "metadata": {
    "tags": []
   },
   "outputs": [],
   "source": [
    "storage_client = storage.Client()\n",
    "bucket = storage_client.bucket(bucket2_name)"
   ]
  },
  {
   "cell_type": "code",
   "execution_count": 88,
   "id": "9d39130b-164d-4c57-a912-3a3b978fb54c",
   "metadata": {
    "tags": []
   },
   "outputs": [],
   "source": [
    "blob = bucket.blob(\"ball_by_ball_df.csv\")\n",
    "blob.upload_from_filename(\"ball_by_ball_df.csv\")"
   ]
  },
  {
   "cell_type": "code",
   "execution_count": 92,
   "id": "9bb46c5e-daa7-4615-a68a-df32f3550c41",
   "metadata": {
    "tags": []
   },
   "outputs": [],
   "source": [
    "blob = bucket.blob(\"match_df.csv\")\n",
    "blob.upload_from_filename(\"match_df.csv\")"
   ]
  },
  {
   "cell_type": "code",
   "execution_count": 94,
   "id": "58e593e6-3104-4c70-aafd-c26c055875b8",
   "metadata": {
    "tags": []
   },
   "outputs": [],
   "source": [
    "blob = bucket.blob(\"player_df.csv\")\n",
    "blob.upload_from_filename(\"player_df.csv\")"
   ]
  },
  {
   "cell_type": "code",
   "execution_count": 96,
   "id": "7f978248-0632-41f3-8696-ce6a53993600",
   "metadata": {
    "tags": []
   },
   "outputs": [],
   "source": [
    "blob = bucket.blob(\"player_match_df.csv\")\n",
    "blob.upload_from_filename(\"player_match_df.csv\")"
   ]
  },
  {
   "cell_type": "code",
   "execution_count": 98,
   "id": "bd1cea46-ad80-4a35-a15a-74a5a0ef22e5",
   "metadata": {
    "tags": []
   },
   "outputs": [],
   "source": [
    "blob = bucket.blob(\"team_df.csv\")\n",
    "blob.upload_from_filename(\"team_df.csv\")"
   ]
  }
 ],
 "metadata": {
  "kernelspec": {
   "display_name": "PySpark (Local)",
   "language": "python",
   "name": "pyspark"
  },
  "language_info": {
   "codemirror_mode": {
    "name": "ipython",
    "version": 3
   },
   "file_extension": ".py",
   "mimetype": "text/x-python",
   "name": "python",
   "nbconvert_exporter": "python",
   "pygments_lexer": "ipython3",
   "version": "3.10.13"
  }
 },
 "nbformat": 4,
 "nbformat_minor": 5
}
